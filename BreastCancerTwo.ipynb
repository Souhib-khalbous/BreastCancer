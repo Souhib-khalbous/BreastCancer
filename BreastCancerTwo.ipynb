{
  "nbformat": 4,
  "nbformat_minor": 0,
  "metadata": {
    "colab": {
      "provenance": []
    },
    "kernelspec": {
      "name": "python3",
      "display_name": "Python 3"
    },
    "language_info": {
      "name": "python"
    }
  },
  "cells": [
    {
      "cell_type": "code",
      "execution_count": null,
      "metadata": {
        "id": "NN-c_yxEPz-L"
      },
      "outputs": [],
      "source": [
        "#import libraries\n",
        "import pandas as pd\n",
        "import seaborn as sns"
      ]
    },
    {
      "cell_type": "markdown",
      "source": [
        "Download dataset from Kaggle"
      ],
      "metadata": {
        "id": "m0sZuJE8P8RT"
      }
    },
    {
      "cell_type": "code",
      "source": [
        "#set kaggle API credentials\n",
        "import os\n",
        "os.environ['KAGGLE_USERNAME']='souhibkhalbous'\n",
        "os.environ['KAGGLE_KEY'] ='2dd86d28af6214d746fd5da037724c12'"
      ],
      "metadata": {
        "id": "YE8Rcpp3P5bF"
      },
      "execution_count": null,
      "outputs": []
    },
    {
      "cell_type": "code",
      "source": [
        "#download dataset\n",
        "! kaggle datasets download  -d  uciml/breast-cancer-wisconsin-data"
      ],
      "metadata": {
        "colab": {
          "base_uri": "https://localhost:8080/"
        },
        "id": "axxLymf1QCQo",
        "outputId": "f469d02a-3b3c-46f4-a92a-a9ce65f70b55"
      },
      "execution_count": null,
      "outputs": [
        {
          "output_type": "stream",
          "name": "stdout",
          "text": [
            "Downloading breast-cancer-wisconsin-data.zip to /content\n",
            "\r  0% 0.00/48.6k [00:00<?, ?B/s]\n",
            "\r100% 48.6k/48.6k [00:00<00:00, 54.1MB/s]\n"
          ]
        }
      ]
    },
    {
      "cell_type": "code",
      "source": [
        "#unzip file\n",
        "! unzip /content/breast-cancer-wisconsin-data.zip"
      ],
      "metadata": {
        "colab": {
          "base_uri": "https://localhost:8080/"
        },
        "id": "k-K3d3MfQOYT",
        "outputId": "8fc2e629-054f-4273-dfeb-6d95dd6994be"
      },
      "execution_count": null,
      "outputs": [
        {
          "output_type": "stream",
          "name": "stdout",
          "text": [
            "Archive:  /content/breast-cancer-wisconsin-data.zip\n",
            "  inflating: data.csv                \n"
          ]
        }
      ]
    },
    {
      "cell_type": "code",
      "source": [],
      "metadata": {
        "id": "hg_WRE-5QR5D"
      },
      "execution_count": null,
      "outputs": []
    },
    {
      "cell_type": "markdown",
      "source": [
        "**Load & Explore Data**"
      ],
      "metadata": {
        "id": "HFXFmt3EQUUp"
      }
    },
    {
      "cell_type": "code",
      "source": [
        "#load data on dataframe\n",
        "df = pd.read_csv('/content/data.csv')"
      ],
      "metadata": {
        "id": "t858xL7jQZBf"
      },
      "execution_count": null,
      "outputs": []
    },
    {
      "cell_type": "code",
      "source": [
        "#display dataframe\n",
        "df.head()"
      ],
      "metadata": {
        "colab": {
          "base_uri": "https://localhost:8080/",
          "height": 317
        },
        "id": "FKpM8EjiQdRL",
        "outputId": "b4b1e777-b049-47ae-b8c4-2ad48da2daa2"
      },
      "execution_count": null,
      "outputs": [
        {
          "output_type": "execute_result",
          "data": {
            "text/plain": [
              "         id diagnosis  radius_mean  texture_mean  perimeter_mean  area_mean  \\\n",
              "0    842302         M        17.99         10.38          122.80     1001.0   \n",
              "1    842517         M        20.57         17.77          132.90     1326.0   \n",
              "2  84300903         M        19.69         21.25          130.00     1203.0   \n",
              "3  84348301         M        11.42         20.38           77.58      386.1   \n",
              "4  84358402         M        20.29         14.34          135.10     1297.0   \n",
              "\n",
              "   smoothness_mean  compactness_mean  concavity_mean  concave points_mean  \\\n",
              "0          0.11840           0.27760          0.3001              0.14710   \n",
              "1          0.08474           0.07864          0.0869              0.07017   \n",
              "2          0.10960           0.15990          0.1974              0.12790   \n",
              "3          0.14250           0.28390          0.2414              0.10520   \n",
              "4          0.10030           0.13280          0.1980              0.10430   \n",
              "\n",
              "   ...  texture_worst  perimeter_worst  area_worst  smoothness_worst  \\\n",
              "0  ...          17.33           184.60      2019.0            0.1622   \n",
              "1  ...          23.41           158.80      1956.0            0.1238   \n",
              "2  ...          25.53           152.50      1709.0            0.1444   \n",
              "3  ...          26.50            98.87       567.7            0.2098   \n",
              "4  ...          16.67           152.20      1575.0            0.1374   \n",
              "\n",
              "   compactness_worst  concavity_worst  concave points_worst  symmetry_worst  \\\n",
              "0             0.6656           0.7119                0.2654          0.4601   \n",
              "1             0.1866           0.2416                0.1860          0.2750   \n",
              "2             0.4245           0.4504                0.2430          0.3613   \n",
              "3             0.8663           0.6869                0.2575          0.6638   \n",
              "4             0.2050           0.4000                0.1625          0.2364   \n",
              "\n",
              "   fractal_dimension_worst  Unnamed: 32  \n",
              "0                  0.11890          NaN  \n",
              "1                  0.08902          NaN  \n",
              "2                  0.08758          NaN  \n",
              "3                  0.17300          NaN  \n",
              "4                  0.07678          NaN  \n",
              "\n",
              "[5 rows x 33 columns]"
            ],
            "text/html": [
              "\n",
              "  <div id=\"df-e6379f4e-1f98-4f83-9b7a-804f1cc9961b\">\n",
              "    <div class=\"colab-df-container\">\n",
              "      <div>\n",
              "<style scoped>\n",
              "    .dataframe tbody tr th:only-of-type {\n",
              "        vertical-align: middle;\n",
              "    }\n",
              "\n",
              "    .dataframe tbody tr th {\n",
              "        vertical-align: top;\n",
              "    }\n",
              "\n",
              "    .dataframe thead th {\n",
              "        text-align: right;\n",
              "    }\n",
              "</style>\n",
              "<table border=\"1\" class=\"dataframe\">\n",
              "  <thead>\n",
              "    <tr style=\"text-align: right;\">\n",
              "      <th></th>\n",
              "      <th>id</th>\n",
              "      <th>diagnosis</th>\n",
              "      <th>radius_mean</th>\n",
              "      <th>texture_mean</th>\n",
              "      <th>perimeter_mean</th>\n",
              "      <th>area_mean</th>\n",
              "      <th>smoothness_mean</th>\n",
              "      <th>compactness_mean</th>\n",
              "      <th>concavity_mean</th>\n",
              "      <th>concave points_mean</th>\n",
              "      <th>...</th>\n",
              "      <th>texture_worst</th>\n",
              "      <th>perimeter_worst</th>\n",
              "      <th>area_worst</th>\n",
              "      <th>smoothness_worst</th>\n",
              "      <th>compactness_worst</th>\n",
              "      <th>concavity_worst</th>\n",
              "      <th>concave points_worst</th>\n",
              "      <th>symmetry_worst</th>\n",
              "      <th>fractal_dimension_worst</th>\n",
              "      <th>Unnamed: 32</th>\n",
              "    </tr>\n",
              "  </thead>\n",
              "  <tbody>\n",
              "    <tr>\n",
              "      <th>0</th>\n",
              "      <td>842302</td>\n",
              "      <td>M</td>\n",
              "      <td>17.99</td>\n",
              "      <td>10.38</td>\n",
              "      <td>122.80</td>\n",
              "      <td>1001.0</td>\n",
              "      <td>0.11840</td>\n",
              "      <td>0.27760</td>\n",
              "      <td>0.3001</td>\n",
              "      <td>0.14710</td>\n",
              "      <td>...</td>\n",
              "      <td>17.33</td>\n",
              "      <td>184.60</td>\n",
              "      <td>2019.0</td>\n",
              "      <td>0.1622</td>\n",
              "      <td>0.6656</td>\n",
              "      <td>0.7119</td>\n",
              "      <td>0.2654</td>\n",
              "      <td>0.4601</td>\n",
              "      <td>0.11890</td>\n",
              "      <td>NaN</td>\n",
              "    </tr>\n",
              "    <tr>\n",
              "      <th>1</th>\n",
              "      <td>842517</td>\n",
              "      <td>M</td>\n",
              "      <td>20.57</td>\n",
              "      <td>17.77</td>\n",
              "      <td>132.90</td>\n",
              "      <td>1326.0</td>\n",
              "      <td>0.08474</td>\n",
              "      <td>0.07864</td>\n",
              "      <td>0.0869</td>\n",
              "      <td>0.07017</td>\n",
              "      <td>...</td>\n",
              "      <td>23.41</td>\n",
              "      <td>158.80</td>\n",
              "      <td>1956.0</td>\n",
              "      <td>0.1238</td>\n",
              "      <td>0.1866</td>\n",
              "      <td>0.2416</td>\n",
              "      <td>0.1860</td>\n",
              "      <td>0.2750</td>\n",
              "      <td>0.08902</td>\n",
              "      <td>NaN</td>\n",
              "    </tr>\n",
              "    <tr>\n",
              "      <th>2</th>\n",
              "      <td>84300903</td>\n",
              "      <td>M</td>\n",
              "      <td>19.69</td>\n",
              "      <td>21.25</td>\n",
              "      <td>130.00</td>\n",
              "      <td>1203.0</td>\n",
              "      <td>0.10960</td>\n",
              "      <td>0.15990</td>\n",
              "      <td>0.1974</td>\n",
              "      <td>0.12790</td>\n",
              "      <td>...</td>\n",
              "      <td>25.53</td>\n",
              "      <td>152.50</td>\n",
              "      <td>1709.0</td>\n",
              "      <td>0.1444</td>\n",
              "      <td>0.4245</td>\n",
              "      <td>0.4504</td>\n",
              "      <td>0.2430</td>\n",
              "      <td>0.3613</td>\n",
              "      <td>0.08758</td>\n",
              "      <td>NaN</td>\n",
              "    </tr>\n",
              "    <tr>\n",
              "      <th>3</th>\n",
              "      <td>84348301</td>\n",
              "      <td>M</td>\n",
              "      <td>11.42</td>\n",
              "      <td>20.38</td>\n",
              "      <td>77.58</td>\n",
              "      <td>386.1</td>\n",
              "      <td>0.14250</td>\n",
              "      <td>0.28390</td>\n",
              "      <td>0.2414</td>\n",
              "      <td>0.10520</td>\n",
              "      <td>...</td>\n",
              "      <td>26.50</td>\n",
              "      <td>98.87</td>\n",
              "      <td>567.7</td>\n",
              "      <td>0.2098</td>\n",
              "      <td>0.8663</td>\n",
              "      <td>0.6869</td>\n",
              "      <td>0.2575</td>\n",
              "      <td>0.6638</td>\n",
              "      <td>0.17300</td>\n",
              "      <td>NaN</td>\n",
              "    </tr>\n",
              "    <tr>\n",
              "      <th>4</th>\n",
              "      <td>84358402</td>\n",
              "      <td>M</td>\n",
              "      <td>20.29</td>\n",
              "      <td>14.34</td>\n",
              "      <td>135.10</td>\n",
              "      <td>1297.0</td>\n",
              "      <td>0.10030</td>\n",
              "      <td>0.13280</td>\n",
              "      <td>0.1980</td>\n",
              "      <td>0.10430</td>\n",
              "      <td>...</td>\n",
              "      <td>16.67</td>\n",
              "      <td>152.20</td>\n",
              "      <td>1575.0</td>\n",
              "      <td>0.1374</td>\n",
              "      <td>0.2050</td>\n",
              "      <td>0.4000</td>\n",
              "      <td>0.1625</td>\n",
              "      <td>0.2364</td>\n",
              "      <td>0.07678</td>\n",
              "      <td>NaN</td>\n",
              "    </tr>\n",
              "  </tbody>\n",
              "</table>\n",
              "<p>5 rows × 33 columns</p>\n",
              "</div>\n",
              "      <button class=\"colab-df-convert\" onclick=\"convertToInteractive('df-e6379f4e-1f98-4f83-9b7a-804f1cc9961b')\"\n",
              "              title=\"Convert this dataframe to an interactive table.\"\n",
              "              style=\"display:none;\">\n",
              "        \n",
              "  <svg xmlns=\"http://www.w3.org/2000/svg\" height=\"24px\"viewBox=\"0 0 24 24\"\n",
              "       width=\"24px\">\n",
              "    <path d=\"M0 0h24v24H0V0z\" fill=\"none\"/>\n",
              "    <path d=\"M18.56 5.44l.94 2.06.94-2.06 2.06-.94-2.06-.94-.94-2.06-.94 2.06-2.06.94zm-11 1L8.5 8.5l.94-2.06 2.06-.94-2.06-.94L8.5 2.5l-.94 2.06-2.06.94zm10 10l.94 2.06.94-2.06 2.06-.94-2.06-.94-.94-2.06-.94 2.06-2.06.94z\"/><path d=\"M17.41 7.96l-1.37-1.37c-.4-.4-.92-.59-1.43-.59-.52 0-1.04.2-1.43.59L10.3 9.45l-7.72 7.72c-.78.78-.78 2.05 0 2.83L4 21.41c.39.39.9.59 1.41.59.51 0 1.02-.2 1.41-.59l7.78-7.78 2.81-2.81c.8-.78.8-2.07 0-2.86zM5.41 20L4 18.59l7.72-7.72 1.47 1.35L5.41 20z\"/>\n",
              "  </svg>\n",
              "      </button>\n",
              "      \n",
              "  <style>\n",
              "    .colab-df-container {\n",
              "      display:flex;\n",
              "      flex-wrap:wrap;\n",
              "      gap: 12px;\n",
              "    }\n",
              "\n",
              "    .colab-df-convert {\n",
              "      background-color: #E8F0FE;\n",
              "      border: none;\n",
              "      border-radius: 50%;\n",
              "      cursor: pointer;\n",
              "      display: none;\n",
              "      fill: #1967D2;\n",
              "      height: 32px;\n",
              "      padding: 0 0 0 0;\n",
              "      width: 32px;\n",
              "    }\n",
              "\n",
              "    .colab-df-convert:hover {\n",
              "      background-color: #E2EBFA;\n",
              "      box-shadow: 0px 1px 2px rgba(60, 64, 67, 0.3), 0px 1px 3px 1px rgba(60, 64, 67, 0.15);\n",
              "      fill: #174EA6;\n",
              "    }\n",
              "\n",
              "    [theme=dark] .colab-df-convert {\n",
              "      background-color: #3B4455;\n",
              "      fill: #D2E3FC;\n",
              "    }\n",
              "\n",
              "    [theme=dark] .colab-df-convert:hover {\n",
              "      background-color: #434B5C;\n",
              "      box-shadow: 0px 1px 3px 1px rgba(0, 0, 0, 0.15);\n",
              "      filter: drop-shadow(0px 1px 2px rgba(0, 0, 0, 0.3));\n",
              "      fill: #FFFFFF;\n",
              "    }\n",
              "  </style>\n",
              "\n",
              "      <script>\n",
              "        const buttonEl =\n",
              "          document.querySelector('#df-e6379f4e-1f98-4f83-9b7a-804f1cc9961b button.colab-df-convert');\n",
              "        buttonEl.style.display =\n",
              "          google.colab.kernel.accessAllowed ? 'block' : 'none';\n",
              "\n",
              "        async function convertToInteractive(key) {\n",
              "          const element = document.querySelector('#df-e6379f4e-1f98-4f83-9b7a-804f1cc9961b');\n",
              "          const dataTable =\n",
              "            await google.colab.kernel.invokeFunction('convertToInteractive',\n",
              "                                                     [key], {});\n",
              "          if (!dataTable) return;\n",
              "\n",
              "          const docLinkHtml = 'Like what you see? Visit the ' +\n",
              "            '<a target=\"_blank\" href=https://colab.research.google.com/notebooks/data_table.ipynb>data table notebook</a>'\n",
              "            + ' to learn more about interactive tables.';\n",
              "          element.innerHTML = '';\n",
              "          dataTable['output_type'] = 'display_data';\n",
              "          await google.colab.output.renderOutput(dataTable, element);\n",
              "          const docLink = document.createElement('div');\n",
              "          docLink.innerHTML = docLinkHtml;\n",
              "          element.appendChild(docLink);\n",
              "        }\n",
              "      </script>\n",
              "    </div>\n",
              "  </div>\n",
              "  "
            ]
          },
          "metadata": {},
          "execution_count": 6
        }
      ]
    },
    {
      "cell_type": "code",
      "source": [
        "#count of rows and columns\n",
        "df.shape"
      ],
      "metadata": {
        "colab": {
          "base_uri": "https://localhost:8080/"
        },
        "id": "rI9vBBnOQg2u",
        "outputId": "e4397eb3-1350-49e5-ceba-8aa1a7f19514"
      },
      "execution_count": null,
      "outputs": [
        {
          "output_type": "execute_result",
          "data": {
            "text/plain": [
              "(569, 33)"
            ]
          },
          "metadata": {},
          "execution_count": 7
        }
      ]
    },
    {
      "cell_type": "code",
      "source": [
        "#count number of null(empty) values\n",
        "df.isna().sum()"
      ],
      "metadata": {
        "colab": {
          "base_uri": "https://localhost:8080/"
        },
        "id": "iJjppNe0Qjv9",
        "outputId": "d53b4d9a-6e1e-41a4-83e1-60062df1ad2f"
      },
      "execution_count": null,
      "outputs": [
        {
          "output_type": "execute_result",
          "data": {
            "text/plain": [
              "id                           0\n",
              "diagnosis                    0\n",
              "radius_mean                  0\n",
              "texture_mean                 0\n",
              "perimeter_mean               0\n",
              "area_mean                    0\n",
              "smoothness_mean              0\n",
              "compactness_mean             0\n",
              "concavity_mean               0\n",
              "concave points_mean          0\n",
              "symmetry_mean                0\n",
              "fractal_dimension_mean       0\n",
              "radius_se                    0\n",
              "texture_se                   0\n",
              "perimeter_se                 0\n",
              "area_se                      0\n",
              "smoothness_se                0\n",
              "compactness_se               0\n",
              "concavity_se                 0\n",
              "concave points_se            0\n",
              "symmetry_se                  0\n",
              "fractal_dimension_se         0\n",
              "radius_worst                 0\n",
              "texture_worst                0\n",
              "perimeter_worst              0\n",
              "area_worst                   0\n",
              "smoothness_worst             0\n",
              "compactness_worst            0\n",
              "concavity_worst              0\n",
              "concave points_worst         0\n",
              "symmetry_worst               0\n",
              "fractal_dimension_worst      0\n",
              "Unnamed: 32                569\n",
              "dtype: int64"
            ]
          },
          "metadata": {},
          "execution_count": 8
        }
      ]
    },
    {
      "cell_type": "code",
      "source": [
        "# Drop the column with null values\n",
        "df.dropna(axis=1, inplace = True)"
      ],
      "metadata": {
        "id": "NWsy4ZpAQnjS"
      },
      "execution_count": null,
      "outputs": []
    },
    {
      "cell_type": "code",
      "source": [
        "# count of rows and columns\n",
        "df.shape"
      ],
      "metadata": {
        "colab": {
          "base_uri": "https://localhost:8080/"
        },
        "id": "Zp2gL5kOQqiw",
        "outputId": "c8c12e7f-4d7c-4715-fac4-5a13025e8c75"
      },
      "execution_count": null,
      "outputs": [
        {
          "output_type": "execute_result",
          "data": {
            "text/plain": [
              "(569, 32)"
            ]
          },
          "metadata": {},
          "execution_count": 11
        }
      ]
    },
    {
      "cell_type": "code",
      "source": [
        "#Get count of number of M or B cells in diagnosis\n",
        "df['diagnosis'].value_counts()\n"
      ],
      "metadata": {
        "colab": {
          "base_uri": "https://localhost:8080/"
        },
        "id": "BH0B9N06Qr4M",
        "outputId": "df0debf2-5262-48bb-a413-121cd72dfee0"
      },
      "execution_count": null,
      "outputs": [
        {
          "output_type": "execute_result",
          "data": {
            "text/plain": [
              "B    357\n",
              "M    212\n",
              "Name: diagnosis, dtype: int64"
            ]
          },
          "metadata": {},
          "execution_count": 12
        }
      ]
    },
    {
      "cell_type": "markdown",
      "source": [
        "# Label **Encoding**"
      ],
      "metadata": {
        "id": "GI6sJN49QyQ3"
      }
    },
    {
      "cell_type": "code",
      "source": [
        "#Get Datatypes of each column in our dataset\n",
        "df.dtypes"
      ],
      "metadata": {
        "colab": {
          "base_uri": "https://localhost:8080/"
        },
        "id": "w4gkpDzOQvFi",
        "outputId": "973cdba1-7300-4dd8-8f41-d6f2652a02b1"
      },
      "execution_count": null,
      "outputs": [
        {
          "output_type": "execute_result",
          "data": {
            "text/plain": [
              "id                           int64\n",
              "diagnosis                   object\n",
              "radius_mean                float64\n",
              "texture_mean               float64\n",
              "perimeter_mean             float64\n",
              "area_mean                  float64\n",
              "smoothness_mean            float64\n",
              "compactness_mean           float64\n",
              "concavity_mean             float64\n",
              "concave points_mean        float64\n",
              "symmetry_mean              float64\n",
              "fractal_dimension_mean     float64\n",
              "radius_se                  float64\n",
              "texture_se                 float64\n",
              "perimeter_se               float64\n",
              "area_se                    float64\n",
              "smoothness_se              float64\n",
              "compactness_se             float64\n",
              "concavity_se               float64\n",
              "concave points_se          float64\n",
              "symmetry_se                float64\n",
              "fractal_dimension_se       float64\n",
              "radius_worst               float64\n",
              "texture_worst              float64\n",
              "perimeter_worst            float64\n",
              "area_worst                 float64\n",
              "smoothness_worst           float64\n",
              "compactness_worst          float64\n",
              "concavity_worst            float64\n",
              "concave points_worst       float64\n",
              "symmetry_worst             float64\n",
              "fractal_dimension_worst    float64\n",
              "dtype: object"
            ]
          },
          "metadata": {},
          "execution_count": 13
        }
      ]
    },
    {
      "cell_type": "code",
      "source": [
        "#Encode the diagnosis values\n",
        "from sklearn.preprocessing import LabelEncoder\n",
        "labelencoder = LabelEncoder()\n",
        "df.iloc[:,1] =labelencoder.fit_transform(df.iloc[:,1].values)\n"
      ],
      "metadata": {
        "colab": {
          "base_uri": "https://localhost:8080/"
        },
        "id": "mckhZdRaQ83c",
        "outputId": "245042a3-ab60-4184-b12c-b2f2a3661ebe"
      },
      "execution_count": null,
      "outputs": [
        {
          "output_type": "stream",
          "name": "stderr",
          "text": [
            "<ipython-input-14-dcefcf1ae1b0>:4: DeprecationWarning: In a future version, `df.iloc[:, i] = newvals` will attempt to set the values inplace instead of always setting a new array. To retain the old behavior, use either `df[df.columns[i]] = newvals` or, if columns are non-unique, `df.isetitem(i, newvals)`\n",
            "  df.iloc[:,1] =labelencoder.fit_transform(df.iloc[:,1].values)\n"
          ]
        }
      ]
    },
    {
      "cell_type": "code",
      "source": [
        "#display df\n",
        "df"
      ],
      "metadata": {
        "colab": {
          "base_uri": "https://localhost:8080/",
          "height": 505
        },
        "id": "65FSO8prRAV7",
        "outputId": "ab9b4fad-7fae-4ea3-8fd2-f90aad798c5f"
      },
      "execution_count": null,
      "outputs": [
        {
          "output_type": "execute_result",
          "data": {
            "text/plain": [
              "           id  diagnosis  radius_mean  texture_mean  perimeter_mean  \\\n",
              "0      842302          1        17.99         10.38          122.80   \n",
              "1      842517          1        20.57         17.77          132.90   \n",
              "2    84300903          1        19.69         21.25          130.00   \n",
              "3    84348301          1        11.42         20.38           77.58   \n",
              "4    84358402          1        20.29         14.34          135.10   \n",
              "..        ...        ...          ...           ...             ...   \n",
              "564    926424          1        21.56         22.39          142.00   \n",
              "565    926682          1        20.13         28.25          131.20   \n",
              "566    926954          1        16.60         28.08          108.30   \n",
              "567    927241          1        20.60         29.33          140.10   \n",
              "568     92751          0         7.76         24.54           47.92   \n",
              "\n",
              "     area_mean  smoothness_mean  compactness_mean  concavity_mean  \\\n",
              "0       1001.0          0.11840           0.27760         0.30010   \n",
              "1       1326.0          0.08474           0.07864         0.08690   \n",
              "2       1203.0          0.10960           0.15990         0.19740   \n",
              "3        386.1          0.14250           0.28390         0.24140   \n",
              "4       1297.0          0.10030           0.13280         0.19800   \n",
              "..         ...              ...               ...             ...   \n",
              "564     1479.0          0.11100           0.11590         0.24390   \n",
              "565     1261.0          0.09780           0.10340         0.14400   \n",
              "566      858.1          0.08455           0.10230         0.09251   \n",
              "567     1265.0          0.11780           0.27700         0.35140   \n",
              "568      181.0          0.05263           0.04362         0.00000   \n",
              "\n",
              "     concave points_mean  ...  radius_worst  texture_worst  perimeter_worst  \\\n",
              "0                0.14710  ...        25.380          17.33           184.60   \n",
              "1                0.07017  ...        24.990          23.41           158.80   \n",
              "2                0.12790  ...        23.570          25.53           152.50   \n",
              "3                0.10520  ...        14.910          26.50            98.87   \n",
              "4                0.10430  ...        22.540          16.67           152.20   \n",
              "..                   ...  ...           ...            ...              ...   \n",
              "564              0.13890  ...        25.450          26.40           166.10   \n",
              "565              0.09791  ...        23.690          38.25           155.00   \n",
              "566              0.05302  ...        18.980          34.12           126.70   \n",
              "567              0.15200  ...        25.740          39.42           184.60   \n",
              "568              0.00000  ...         9.456          30.37            59.16   \n",
              "\n",
              "     area_worst  smoothness_worst  compactness_worst  concavity_worst  \\\n",
              "0        2019.0           0.16220            0.66560           0.7119   \n",
              "1        1956.0           0.12380            0.18660           0.2416   \n",
              "2        1709.0           0.14440            0.42450           0.4504   \n",
              "3         567.7           0.20980            0.86630           0.6869   \n",
              "4        1575.0           0.13740            0.20500           0.4000   \n",
              "..          ...               ...                ...              ...   \n",
              "564      2027.0           0.14100            0.21130           0.4107   \n",
              "565      1731.0           0.11660            0.19220           0.3215   \n",
              "566      1124.0           0.11390            0.30940           0.3403   \n",
              "567      1821.0           0.16500            0.86810           0.9387   \n",
              "568       268.6           0.08996            0.06444           0.0000   \n",
              "\n",
              "     concave points_worst  symmetry_worst  fractal_dimension_worst  \n",
              "0                  0.2654          0.4601                  0.11890  \n",
              "1                  0.1860          0.2750                  0.08902  \n",
              "2                  0.2430          0.3613                  0.08758  \n",
              "3                  0.2575          0.6638                  0.17300  \n",
              "4                  0.1625          0.2364                  0.07678  \n",
              "..                    ...             ...                      ...  \n",
              "564                0.2216          0.2060                  0.07115  \n",
              "565                0.1628          0.2572                  0.06637  \n",
              "566                0.1418          0.2218                  0.07820  \n",
              "567                0.2650          0.4087                  0.12400  \n",
              "568                0.0000          0.2871                  0.07039  \n",
              "\n",
              "[569 rows x 32 columns]"
            ],
            "text/html": [
              "\n",
              "  <div id=\"df-9aa0ff2f-6dcc-47cb-a806-4b94d5bf43a8\">\n",
              "    <div class=\"colab-df-container\">\n",
              "      <div>\n",
              "<style scoped>\n",
              "    .dataframe tbody tr th:only-of-type {\n",
              "        vertical-align: middle;\n",
              "    }\n",
              "\n",
              "    .dataframe tbody tr th {\n",
              "        vertical-align: top;\n",
              "    }\n",
              "\n",
              "    .dataframe thead th {\n",
              "        text-align: right;\n",
              "    }\n",
              "</style>\n",
              "<table border=\"1\" class=\"dataframe\">\n",
              "  <thead>\n",
              "    <tr style=\"text-align: right;\">\n",
              "      <th></th>\n",
              "      <th>id</th>\n",
              "      <th>diagnosis</th>\n",
              "      <th>radius_mean</th>\n",
              "      <th>texture_mean</th>\n",
              "      <th>perimeter_mean</th>\n",
              "      <th>area_mean</th>\n",
              "      <th>smoothness_mean</th>\n",
              "      <th>compactness_mean</th>\n",
              "      <th>concavity_mean</th>\n",
              "      <th>concave points_mean</th>\n",
              "      <th>...</th>\n",
              "      <th>radius_worst</th>\n",
              "      <th>texture_worst</th>\n",
              "      <th>perimeter_worst</th>\n",
              "      <th>area_worst</th>\n",
              "      <th>smoothness_worst</th>\n",
              "      <th>compactness_worst</th>\n",
              "      <th>concavity_worst</th>\n",
              "      <th>concave points_worst</th>\n",
              "      <th>symmetry_worst</th>\n",
              "      <th>fractal_dimension_worst</th>\n",
              "    </tr>\n",
              "  </thead>\n",
              "  <tbody>\n",
              "    <tr>\n",
              "      <th>0</th>\n",
              "      <td>842302</td>\n",
              "      <td>1</td>\n",
              "      <td>17.99</td>\n",
              "      <td>10.38</td>\n",
              "      <td>122.80</td>\n",
              "      <td>1001.0</td>\n",
              "      <td>0.11840</td>\n",
              "      <td>0.27760</td>\n",
              "      <td>0.30010</td>\n",
              "      <td>0.14710</td>\n",
              "      <td>...</td>\n",
              "      <td>25.380</td>\n",
              "      <td>17.33</td>\n",
              "      <td>184.60</td>\n",
              "      <td>2019.0</td>\n",
              "      <td>0.16220</td>\n",
              "      <td>0.66560</td>\n",
              "      <td>0.7119</td>\n",
              "      <td>0.2654</td>\n",
              "      <td>0.4601</td>\n",
              "      <td>0.11890</td>\n",
              "    </tr>\n",
              "    <tr>\n",
              "      <th>1</th>\n",
              "      <td>842517</td>\n",
              "      <td>1</td>\n",
              "      <td>20.57</td>\n",
              "      <td>17.77</td>\n",
              "      <td>132.90</td>\n",
              "      <td>1326.0</td>\n",
              "      <td>0.08474</td>\n",
              "      <td>0.07864</td>\n",
              "      <td>0.08690</td>\n",
              "      <td>0.07017</td>\n",
              "      <td>...</td>\n",
              "      <td>24.990</td>\n",
              "      <td>23.41</td>\n",
              "      <td>158.80</td>\n",
              "      <td>1956.0</td>\n",
              "      <td>0.12380</td>\n",
              "      <td>0.18660</td>\n",
              "      <td>0.2416</td>\n",
              "      <td>0.1860</td>\n",
              "      <td>0.2750</td>\n",
              "      <td>0.08902</td>\n",
              "    </tr>\n",
              "    <tr>\n",
              "      <th>2</th>\n",
              "      <td>84300903</td>\n",
              "      <td>1</td>\n",
              "      <td>19.69</td>\n",
              "      <td>21.25</td>\n",
              "      <td>130.00</td>\n",
              "      <td>1203.0</td>\n",
              "      <td>0.10960</td>\n",
              "      <td>0.15990</td>\n",
              "      <td>0.19740</td>\n",
              "      <td>0.12790</td>\n",
              "      <td>...</td>\n",
              "      <td>23.570</td>\n",
              "      <td>25.53</td>\n",
              "      <td>152.50</td>\n",
              "      <td>1709.0</td>\n",
              "      <td>0.14440</td>\n",
              "      <td>0.42450</td>\n",
              "      <td>0.4504</td>\n",
              "      <td>0.2430</td>\n",
              "      <td>0.3613</td>\n",
              "      <td>0.08758</td>\n",
              "    </tr>\n",
              "    <tr>\n",
              "      <th>3</th>\n",
              "      <td>84348301</td>\n",
              "      <td>1</td>\n",
              "      <td>11.42</td>\n",
              "      <td>20.38</td>\n",
              "      <td>77.58</td>\n",
              "      <td>386.1</td>\n",
              "      <td>0.14250</td>\n",
              "      <td>0.28390</td>\n",
              "      <td>0.24140</td>\n",
              "      <td>0.10520</td>\n",
              "      <td>...</td>\n",
              "      <td>14.910</td>\n",
              "      <td>26.50</td>\n",
              "      <td>98.87</td>\n",
              "      <td>567.7</td>\n",
              "      <td>0.20980</td>\n",
              "      <td>0.86630</td>\n",
              "      <td>0.6869</td>\n",
              "      <td>0.2575</td>\n",
              "      <td>0.6638</td>\n",
              "      <td>0.17300</td>\n",
              "    </tr>\n",
              "    <tr>\n",
              "      <th>4</th>\n",
              "      <td>84358402</td>\n",
              "      <td>1</td>\n",
              "      <td>20.29</td>\n",
              "      <td>14.34</td>\n",
              "      <td>135.10</td>\n",
              "      <td>1297.0</td>\n",
              "      <td>0.10030</td>\n",
              "      <td>0.13280</td>\n",
              "      <td>0.19800</td>\n",
              "      <td>0.10430</td>\n",
              "      <td>...</td>\n",
              "      <td>22.540</td>\n",
              "      <td>16.67</td>\n",
              "      <td>152.20</td>\n",
              "      <td>1575.0</td>\n",
              "      <td>0.13740</td>\n",
              "      <td>0.20500</td>\n",
              "      <td>0.4000</td>\n",
              "      <td>0.1625</td>\n",
              "      <td>0.2364</td>\n",
              "      <td>0.07678</td>\n",
              "    </tr>\n",
              "    <tr>\n",
              "      <th>...</th>\n",
              "      <td>...</td>\n",
              "      <td>...</td>\n",
              "      <td>...</td>\n",
              "      <td>...</td>\n",
              "      <td>...</td>\n",
              "      <td>...</td>\n",
              "      <td>...</td>\n",
              "      <td>...</td>\n",
              "      <td>...</td>\n",
              "      <td>...</td>\n",
              "      <td>...</td>\n",
              "      <td>...</td>\n",
              "      <td>...</td>\n",
              "      <td>...</td>\n",
              "      <td>...</td>\n",
              "      <td>...</td>\n",
              "      <td>...</td>\n",
              "      <td>...</td>\n",
              "      <td>...</td>\n",
              "      <td>...</td>\n",
              "      <td>...</td>\n",
              "    </tr>\n",
              "    <tr>\n",
              "      <th>564</th>\n",
              "      <td>926424</td>\n",
              "      <td>1</td>\n",
              "      <td>21.56</td>\n",
              "      <td>22.39</td>\n",
              "      <td>142.00</td>\n",
              "      <td>1479.0</td>\n",
              "      <td>0.11100</td>\n",
              "      <td>0.11590</td>\n",
              "      <td>0.24390</td>\n",
              "      <td>0.13890</td>\n",
              "      <td>...</td>\n",
              "      <td>25.450</td>\n",
              "      <td>26.40</td>\n",
              "      <td>166.10</td>\n",
              "      <td>2027.0</td>\n",
              "      <td>0.14100</td>\n",
              "      <td>0.21130</td>\n",
              "      <td>0.4107</td>\n",
              "      <td>0.2216</td>\n",
              "      <td>0.2060</td>\n",
              "      <td>0.07115</td>\n",
              "    </tr>\n",
              "    <tr>\n",
              "      <th>565</th>\n",
              "      <td>926682</td>\n",
              "      <td>1</td>\n",
              "      <td>20.13</td>\n",
              "      <td>28.25</td>\n",
              "      <td>131.20</td>\n",
              "      <td>1261.0</td>\n",
              "      <td>0.09780</td>\n",
              "      <td>0.10340</td>\n",
              "      <td>0.14400</td>\n",
              "      <td>0.09791</td>\n",
              "      <td>...</td>\n",
              "      <td>23.690</td>\n",
              "      <td>38.25</td>\n",
              "      <td>155.00</td>\n",
              "      <td>1731.0</td>\n",
              "      <td>0.11660</td>\n",
              "      <td>0.19220</td>\n",
              "      <td>0.3215</td>\n",
              "      <td>0.1628</td>\n",
              "      <td>0.2572</td>\n",
              "      <td>0.06637</td>\n",
              "    </tr>\n",
              "    <tr>\n",
              "      <th>566</th>\n",
              "      <td>926954</td>\n",
              "      <td>1</td>\n",
              "      <td>16.60</td>\n",
              "      <td>28.08</td>\n",
              "      <td>108.30</td>\n",
              "      <td>858.1</td>\n",
              "      <td>0.08455</td>\n",
              "      <td>0.10230</td>\n",
              "      <td>0.09251</td>\n",
              "      <td>0.05302</td>\n",
              "      <td>...</td>\n",
              "      <td>18.980</td>\n",
              "      <td>34.12</td>\n",
              "      <td>126.70</td>\n",
              "      <td>1124.0</td>\n",
              "      <td>0.11390</td>\n",
              "      <td>0.30940</td>\n",
              "      <td>0.3403</td>\n",
              "      <td>0.1418</td>\n",
              "      <td>0.2218</td>\n",
              "      <td>0.07820</td>\n",
              "    </tr>\n",
              "    <tr>\n",
              "      <th>567</th>\n",
              "      <td>927241</td>\n",
              "      <td>1</td>\n",
              "      <td>20.60</td>\n",
              "      <td>29.33</td>\n",
              "      <td>140.10</td>\n",
              "      <td>1265.0</td>\n",
              "      <td>0.11780</td>\n",
              "      <td>0.27700</td>\n",
              "      <td>0.35140</td>\n",
              "      <td>0.15200</td>\n",
              "      <td>...</td>\n",
              "      <td>25.740</td>\n",
              "      <td>39.42</td>\n",
              "      <td>184.60</td>\n",
              "      <td>1821.0</td>\n",
              "      <td>0.16500</td>\n",
              "      <td>0.86810</td>\n",
              "      <td>0.9387</td>\n",
              "      <td>0.2650</td>\n",
              "      <td>0.4087</td>\n",
              "      <td>0.12400</td>\n",
              "    </tr>\n",
              "    <tr>\n",
              "      <th>568</th>\n",
              "      <td>92751</td>\n",
              "      <td>0</td>\n",
              "      <td>7.76</td>\n",
              "      <td>24.54</td>\n",
              "      <td>47.92</td>\n",
              "      <td>181.0</td>\n",
              "      <td>0.05263</td>\n",
              "      <td>0.04362</td>\n",
              "      <td>0.00000</td>\n",
              "      <td>0.00000</td>\n",
              "      <td>...</td>\n",
              "      <td>9.456</td>\n",
              "      <td>30.37</td>\n",
              "      <td>59.16</td>\n",
              "      <td>268.6</td>\n",
              "      <td>0.08996</td>\n",
              "      <td>0.06444</td>\n",
              "      <td>0.0000</td>\n",
              "      <td>0.0000</td>\n",
              "      <td>0.2871</td>\n",
              "      <td>0.07039</td>\n",
              "    </tr>\n",
              "  </tbody>\n",
              "</table>\n",
              "<p>569 rows × 32 columns</p>\n",
              "</div>\n",
              "      <button class=\"colab-df-convert\" onclick=\"convertToInteractive('df-9aa0ff2f-6dcc-47cb-a806-4b94d5bf43a8')\"\n",
              "              title=\"Convert this dataframe to an interactive table.\"\n",
              "              style=\"display:none;\">\n",
              "        \n",
              "  <svg xmlns=\"http://www.w3.org/2000/svg\" height=\"24px\"viewBox=\"0 0 24 24\"\n",
              "       width=\"24px\">\n",
              "    <path d=\"M0 0h24v24H0V0z\" fill=\"none\"/>\n",
              "    <path d=\"M18.56 5.44l.94 2.06.94-2.06 2.06-.94-2.06-.94-.94-2.06-.94 2.06-2.06.94zm-11 1L8.5 8.5l.94-2.06 2.06-.94-2.06-.94L8.5 2.5l-.94 2.06-2.06.94zm10 10l.94 2.06.94-2.06 2.06-.94-2.06-.94-.94-2.06-.94 2.06-2.06.94z\"/><path d=\"M17.41 7.96l-1.37-1.37c-.4-.4-.92-.59-1.43-.59-.52 0-1.04.2-1.43.59L10.3 9.45l-7.72 7.72c-.78.78-.78 2.05 0 2.83L4 21.41c.39.39.9.59 1.41.59.51 0 1.02-.2 1.41-.59l7.78-7.78 2.81-2.81c.8-.78.8-2.07 0-2.86zM5.41 20L4 18.59l7.72-7.72 1.47 1.35L5.41 20z\"/>\n",
              "  </svg>\n",
              "      </button>\n",
              "      \n",
              "  <style>\n",
              "    .colab-df-container {\n",
              "      display:flex;\n",
              "      flex-wrap:wrap;\n",
              "      gap: 12px;\n",
              "    }\n",
              "\n",
              "    .colab-df-convert {\n",
              "      background-color: #E8F0FE;\n",
              "      border: none;\n",
              "      border-radius: 50%;\n",
              "      cursor: pointer;\n",
              "      display: none;\n",
              "      fill: #1967D2;\n",
              "      height: 32px;\n",
              "      padding: 0 0 0 0;\n",
              "      width: 32px;\n",
              "    }\n",
              "\n",
              "    .colab-df-convert:hover {\n",
              "      background-color: #E2EBFA;\n",
              "      box-shadow: 0px 1px 2px rgba(60, 64, 67, 0.3), 0px 1px 3px 1px rgba(60, 64, 67, 0.15);\n",
              "      fill: #174EA6;\n",
              "    }\n",
              "\n",
              "    [theme=dark] .colab-df-convert {\n",
              "      background-color: #3B4455;\n",
              "      fill: #D2E3FC;\n",
              "    }\n",
              "\n",
              "    [theme=dark] .colab-df-convert:hover {\n",
              "      background-color: #434B5C;\n",
              "      box-shadow: 0px 1px 3px 1px rgba(0, 0, 0, 0.15);\n",
              "      filter: drop-shadow(0px 1px 2px rgba(0, 0, 0, 0.3));\n",
              "      fill: #FFFFFF;\n",
              "    }\n",
              "  </style>\n",
              "\n",
              "      <script>\n",
              "        const buttonEl =\n",
              "          document.querySelector('#df-9aa0ff2f-6dcc-47cb-a806-4b94d5bf43a8 button.colab-df-convert');\n",
              "        buttonEl.style.display =\n",
              "          google.colab.kernel.accessAllowed ? 'block' : 'none';\n",
              "\n",
              "        async function convertToInteractive(key) {\n",
              "          const element = document.querySelector('#df-9aa0ff2f-6dcc-47cb-a806-4b94d5bf43a8');\n",
              "          const dataTable =\n",
              "            await google.colab.kernel.invokeFunction('convertToInteractive',\n",
              "                                                     [key], {});\n",
              "          if (!dataTable) return;\n",
              "\n",
              "          const docLinkHtml = 'Like what you see? Visit the ' +\n",
              "            '<a target=\"_blank\" href=https://colab.research.google.com/notebooks/data_table.ipynb>data table notebook</a>'\n",
              "            + ' to learn more about interactive tables.';\n",
              "          element.innerHTML = '';\n",
              "          dataTable['output_type'] = 'display_data';\n",
              "          await google.colab.output.renderOutput(dataTable, element);\n",
              "          const docLink = document.createElement('div');\n",
              "          docLink.innerHTML = docLinkHtml;\n",
              "          element.appendChild(docLink);\n",
              "        }\n",
              "      </script>\n",
              "    </div>\n",
              "  </div>\n",
              "  "
            ]
          },
          "metadata": {},
          "execution_count": 15
        }
      ]
    },
    {
      "cell_type": "markdown",
      "source": [
        "# Split Dataset & Feature **Scaling**"
      ],
      "metadata": {
        "id": "bPvu_VqQRDWb"
      }
    },
    {
      "cell_type": "code",
      "source": [
        "#Splitting the dataset into independent and dependent datasets \n",
        "X= df.iloc[:, 2:].values\n",
        "Y = df.iloc[:, 1].values"
      ],
      "metadata": {
        "id": "HsJxYZdIRFja"
      },
      "execution_count": null,
      "outputs": []
    },
    {
      "cell_type": "code",
      "source": [
        "#Splitting datasets into training(75%) and testing(25%)\n",
        "from sklearn.model_selection import train_test_split\n",
        "X_train, X_test, Y_train, Y_test = train_test_split(X,Y,test_size=0.25)"
      ],
      "metadata": {
        "id": "diH3roY6RI6o"
      },
      "execution_count": null,
      "outputs": []
    },
    {
      "cell_type": "code",
      "source": [
        "#Scaling the data(feature scaling)\n",
        "from sklearn.preprocessing import StandardScaler\n",
        "sc = StandardScaler()\n",
        "X_trsin = sc.fit_transform(X_train)\n",
        "X_test = sc.fit_transform(X_test)"
      ],
      "metadata": {
        "id": "r_RWM_dPRLvJ"
      },
      "execution_count": null,
      "outputs": []
    },
    {
      "cell_type": "code",
      "source": [
        "#print data\n",
        "X_trsin"
      ],
      "metadata": {
        "colab": {
          "base_uri": "https://localhost:8080/"
        },
        "id": "uZC89Q2lRP5-",
        "outputId": "71a8ce41-5eba-4888-bc5a-a7c91fb4c955"
      },
      "execution_count": null,
      "outputs": [
        {
          "output_type": "execute_result",
          "data": {
            "text/plain": [
              "array([[-0.74028501, -0.7779701 , -0.7692545 , ..., -0.73951975,\n",
              "        -0.09363001,  0.16531713],\n",
              "       [-0.93628177, -2.28801968, -0.94973076, ..., -1.03483193,\n",
              "        -1.32421211, -0.42675228],\n",
              "       [-0.5735415 ,  2.11549515, -0.60661355, ..., -0.89150304,\n",
              "        -0.8164555 , -1.01659586],\n",
              "       ...,\n",
              "       [-0.79586618, -1.40875031, -0.7701038 , ..., -0.42629145,\n",
              "        -1.3048074 , -0.93590971],\n",
              "       [-0.632048  , -0.14002194, -0.56075135, ...,  0.61360221,\n",
              "         2.99495319,  3.09060742],\n",
              "       [-0.15229474,  0.36651367, -0.11614278, ...,  1.69464219,\n",
              "        -0.16478062,  1.24873737]])"
            ]
          },
          "metadata": {},
          "execution_count": 19
        }
      ]
    },
    {
      "cell_type": "markdown",
      "source": [
        "# Build a Logistic Regression **Model**"
      ],
      "metadata": {
        "id": "YjerQIXkRSl8"
      }
    },
    {
      "cell_type": "code",
      "source": [
        "#build a logistic regression classifier\n",
        "from sklearn.linear_model import LogisticRegression\n",
        "classifier = LogisticRegression()\n",
        "classifier.fit(X_train, Y_train)"
      ],
      "metadata": {
        "colab": {
          "base_uri": "https://localhost:8080/",
          "height": 234
        },
        "id": "5Kpea2NWRUTj",
        "outputId": "bee9b9a7-9d4e-4716-a2c5-f7f358fa6bc4"
      },
      "execution_count": null,
      "outputs": [
        {
          "output_type": "stream",
          "name": "stderr",
          "text": [
            "/usr/local/lib/python3.10/dist-packages/sklearn/linear_model/_logistic.py:458: ConvergenceWarning: lbfgs failed to converge (status=1):\n",
            "STOP: TOTAL NO. of ITERATIONS REACHED LIMIT.\n",
            "\n",
            "Increase the number of iterations (max_iter) or scale the data as shown in:\n",
            "    https://scikit-learn.org/stable/modules/preprocessing.html\n",
            "Please also refer to the documentation for alternative solver options:\n",
            "    https://scikit-learn.org/stable/modules/linear_model.html#logistic-regression\n",
            "  n_iter_i = _check_optimize_result(\n"
          ]
        },
        {
          "output_type": "execute_result",
          "data": {
            "text/plain": [
              "LogisticRegression()"
            ],
            "text/html": [
              "<style>#sk-container-id-1 {color: black;background-color: white;}#sk-container-id-1 pre{padding: 0;}#sk-container-id-1 div.sk-toggleable {background-color: white;}#sk-container-id-1 label.sk-toggleable__label {cursor: pointer;display: block;width: 100%;margin-bottom: 0;padding: 0.3em;box-sizing: border-box;text-align: center;}#sk-container-id-1 label.sk-toggleable__label-arrow:before {content: \"▸\";float: left;margin-right: 0.25em;color: #696969;}#sk-container-id-1 label.sk-toggleable__label-arrow:hover:before {color: black;}#sk-container-id-1 div.sk-estimator:hover label.sk-toggleable__label-arrow:before {color: black;}#sk-container-id-1 div.sk-toggleable__content {max-height: 0;max-width: 0;overflow: hidden;text-align: left;background-color: #f0f8ff;}#sk-container-id-1 div.sk-toggleable__content pre {margin: 0.2em;color: black;border-radius: 0.25em;background-color: #f0f8ff;}#sk-container-id-1 input.sk-toggleable__control:checked~div.sk-toggleable__content {max-height: 200px;max-width: 100%;overflow: auto;}#sk-container-id-1 input.sk-toggleable__control:checked~label.sk-toggleable__label-arrow:before {content: \"▾\";}#sk-container-id-1 div.sk-estimator input.sk-toggleable__control:checked~label.sk-toggleable__label {background-color: #d4ebff;}#sk-container-id-1 div.sk-label input.sk-toggleable__control:checked~label.sk-toggleable__label {background-color: #d4ebff;}#sk-container-id-1 input.sk-hidden--visually {border: 0;clip: rect(1px 1px 1px 1px);clip: rect(1px, 1px, 1px, 1px);height: 1px;margin: -1px;overflow: hidden;padding: 0;position: absolute;width: 1px;}#sk-container-id-1 div.sk-estimator {font-family: monospace;background-color: #f0f8ff;border: 1px dotted black;border-radius: 0.25em;box-sizing: border-box;margin-bottom: 0.5em;}#sk-container-id-1 div.sk-estimator:hover {background-color: #d4ebff;}#sk-container-id-1 div.sk-parallel-item::after {content: \"\";width: 100%;border-bottom: 1px solid gray;flex-grow: 1;}#sk-container-id-1 div.sk-label:hover label.sk-toggleable__label {background-color: #d4ebff;}#sk-container-id-1 div.sk-serial::before {content: \"\";position: absolute;border-left: 1px solid gray;box-sizing: border-box;top: 0;bottom: 0;left: 50%;z-index: 0;}#sk-container-id-1 div.sk-serial {display: flex;flex-direction: column;align-items: center;background-color: white;padding-right: 0.2em;padding-left: 0.2em;position: relative;}#sk-container-id-1 div.sk-item {position: relative;z-index: 1;}#sk-container-id-1 div.sk-parallel {display: flex;align-items: stretch;justify-content: center;background-color: white;position: relative;}#sk-container-id-1 div.sk-item::before, #sk-container-id-1 div.sk-parallel-item::before {content: \"\";position: absolute;border-left: 1px solid gray;box-sizing: border-box;top: 0;bottom: 0;left: 50%;z-index: -1;}#sk-container-id-1 div.sk-parallel-item {display: flex;flex-direction: column;z-index: 1;position: relative;background-color: white;}#sk-container-id-1 div.sk-parallel-item:first-child::after {align-self: flex-end;width: 50%;}#sk-container-id-1 div.sk-parallel-item:last-child::after {align-self: flex-start;width: 50%;}#sk-container-id-1 div.sk-parallel-item:only-child::after {width: 0;}#sk-container-id-1 div.sk-dashed-wrapped {border: 1px dashed gray;margin: 0 0.4em 0.5em 0.4em;box-sizing: border-box;padding-bottom: 0.4em;background-color: white;}#sk-container-id-1 div.sk-label label {font-family: monospace;font-weight: bold;display: inline-block;line-height: 1.2em;}#sk-container-id-1 div.sk-label-container {text-align: center;}#sk-container-id-1 div.sk-container {/* jupyter's `normalize.less` sets `[hidden] { display: none; }` but bootstrap.min.css set `[hidden] { display: none !important; }` so we also need the `!important` here to be able to override the default hidden behavior on the sphinx rendered scikit-learn.org. See: https://github.com/scikit-learn/scikit-learn/issues/21755 */display: inline-block !important;position: relative;}#sk-container-id-1 div.sk-text-repr-fallback {display: none;}</style><div id=\"sk-container-id-1\" class=\"sk-top-container\"><div class=\"sk-text-repr-fallback\"><pre>LogisticRegression()</pre><b>In a Jupyter environment, please rerun this cell to show the HTML representation or trust the notebook. <br />On GitHub, the HTML representation is unable to render, please try loading this page with nbviewer.org.</b></div><div class=\"sk-container\" hidden><div class=\"sk-item\"><div class=\"sk-estimator sk-toggleable\"><input class=\"sk-toggleable__control sk-hidden--visually\" id=\"sk-estimator-id-1\" type=\"checkbox\" checked><label for=\"sk-estimator-id-1\" class=\"sk-toggleable__label sk-toggleable__label-arrow\">LogisticRegression</label><div class=\"sk-toggleable__content\"><pre>LogisticRegression()</pre></div></div></div></div></div>"
            ]
          },
          "metadata": {},
          "execution_count": 20
        }
      ]
    },
    {
      "cell_type": "code",
      "source": [
        "#make use of trained model to make predictions on test data\n",
        "predictions= classifier.predict(X_test)"
      ],
      "metadata": {
        "id": "VmMV2SmYRY0B"
      },
      "execution_count": null,
      "outputs": []
    },
    {
      "cell_type": "markdown",
      "source": [
        "# **Performance Evaluation**"
      ],
      "metadata": {
        "id": "WGINIdJMRcCh"
      }
    },
    {
      "cell_type": "markdown",
      "source": [
        "![10.3.jpg](data:image/jpeg;base64,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)"
      ],
      "metadata": {
        "id": "dT0KIQhmSB0W"
      }
    },
    {
      "cell_type": "code",
      "source": [
        "#plot confusion matrix\n",
        "from sklearn.metrics import confusion_matrix\n",
        "import seaborn as sns\n",
        "cm = confusion_matrix(Y_test, predictions)\n",
        "print(cm)\n",
        "sns.heatmap(cm,annot=True)"
      ],
      "metadata": {
        "colab": {
          "base_uri": "https://localhost:8080/",
          "height": 482
        },
        "id": "SDuBab3fSGVl",
        "outputId": "dc422db7-eba9-47bb-9fe5-97485139987b"
      },
      "execution_count": 22,
      "outputs": [
        {
          "output_type": "stream",
          "name": "stdout",
          "text": [
            "[[47 40]\n",
            " [36 20]]\n"
          ]
        },
        {
          "output_type": "execute_result",
          "data": {
            "text/plain": [
              "<Axes: >"
            ]
          },
          "metadata": {},
          "execution_count": 22
        },
        {
          "output_type": "display_data",
          "data": {
            "text/plain": [
              "<Figure size 640x480 with 2 Axes>"
            ],
            "image/png": "[encoded data removed]"
          },
          "metadata": {}
        }
      ]
    },
    {
      "cell_type": "code",
      "source": [
        "#get accuracy score for model\n",
        "from sklearn.metrics import accuracy_score\n",
        "print(accuracy_score(Y_test, predictions))"
      ],
      "metadata": {
        "colab": {
          "base_uri": "https://localhost:8080/"
        },
        "id": "v8bwNJ73SIsK",
        "outputId": "0f4adffe-1236-454f-d952-a61383612616"
      },
      "execution_count": 23,
      "outputs": [
        {
          "output_type": "stream",
          "name": "stdout",
          "text": [
            "0.46853146853146854\n"
          ]
        }
      ]
    },
    {
      "cell_type": "code",
      "source": [
        "#compare actual values and predicted values\n",
        "\n",
        "\n",
        "print(Y_test)"
      ],
      "metadata": {
        "colab": {
          "base_uri": "https://localhost:8080/"
        },
        "id": "6ZR-KBy-SS8q",
        "outputId": "4d67ecba-a02e-414a-c4bb-41036b1929b5"
      },
      "execution_count": 24,
      "outputs": [
        {
          "output_type": "stream",
          "name": "stdout",
          "text": [
            "[1 0 0 0 1 0 1 1 1 0 1 0 1 0 1 0 1 0 1 1 1 1 1 1 0 0 1 1 1 0 1 0 0 0 0 0 0\n",
            " 1 0 0 1 0 0 0 0 1 1 1 0 0 0 1 1 0 1 0 1 0 0 1 0 0 0 0 0 0 1 0 0 1 0 0 1 1\n",
            " 0 0 0 0 0 0 1 1 0 1 0 1 1 0 0 0 0 0 0 0 0 0 0 0 1 0 0 0 0 1 0 1 1 0 0 0 1\n",
            " 0 0 0 0 0 0 0 1 0 0 1 1 0 0 1 0 1 1 1 0 1 1 0 1 0 0 0 0 1 1 1 0]\n"
          ]
        }
      ]
    },
    {
      "cell_type": "code",
      "source": [
        "print(predictions)"
      ],
      "metadata": {
        "colab": {
          "base_uri": "https://localhost:8080/"
        },
        "id": "Ic8N6RRzSVAn",
        "outputId": "72d13a30-8846-4a9e-ed5f-6093232a04c9"
      },
      "execution_count": 25,
      "outputs": [
        {
          "output_type": "stream",
          "name": "stdout",
          "text": [
            "[1 0 0 0 1 0 1 0 1 0 0 1 0 0 0 0 1 0 0 1 0 0 1 0 1 0 1 1 1 0 0 0 1 1 0 1 0\n",
            " 1 1 0 0 1 1 1 1 0 0 0 1 0 1 0 0 1 0 1 0 1 0 1 1 0 0 1 0 0 0 1 0 0 0 1 0 0\n",
            " 0 1 0 1 0 0 1 0 0 0 1 1 0 1 0 1 1 0 0 0 0 1 0 0 0 0 1 1 1 0 1 1 0 1 1 0 0\n",
            " 1 0 0 1 0 1 0 0 0 1 0 1 1 0 1 0 1 0 0 0 0 1 0 1 1 0 0 1 0 0 0 1]\n"
          ]
        }
      ]
    }
  ]
}